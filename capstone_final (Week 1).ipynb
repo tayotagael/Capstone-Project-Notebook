{
    "cells": [
        {
            "metadata": {},
            "cell_type": "markdown",
            "source": "# Capstone Project - The Battle of the Neighborhoods (Week 1)\n### Price comparison for hotels in Northeast Brazil"
        },
        {
            "metadata": {},
            "cell_type": "markdown",
            "source": "## Table of contents\n* [Introduction: Business Problem](#introduction)\n* [Data](#data)\n* [Methodology](#methodology)\n* [Results](#results)\n* [Observations and Discussion](#observation)\n* [Conclusion](#conclusion)"
        },
        {
            "metadata": {},
            "cell_type": "markdown",
            "source": "## Introduction: Business Problem <a name=\"introduction\"></a>"
        },
        {
            "metadata": {},
            "cell_type": "markdown",
            "source": "Two Brazilian cities were ranked in a ranking that honored the destinations that are highest among tourists in 2013. Fortaleza, in Cear\u00e1, and Jo\u00e3o Pessoa, in Para\u00edba, were among the 54 places in the world that had more positive opinions and increased in interest throughout the year according to TripAdvisor users.\n\nBoth cities are located in the Northeast region of Brazil.\n\nFortaleza has 313,140 km \u00b2 of area and 2,643,247 inhabitants estimated in 2018, in addition to the greater population density among the capitals of the country, and it is also the largest city of Cear\u00e1 in population and the fifth in Brazil.\n\nJo\u00e3o Pessoa is a Brazilian municipality, capital and main financial and economic center of the state of Para\u00edba. With a population of 800,323 inhabitants estimated in 2018, the capital of Para\u00edba is the eighth most populous city in the Northeast Region and the 23rd in Brazil, being in its state the most populous municipality.\n\nAs shown in the TripAdvisor ranking these two cities have a very strong tourist potential. Thinking as a tourist, in general, we want to stay in a place close to sights and we also want to pay a fair price for the accommodation.\n\nWhen we consider this problem, we can create a graphical map informing the values of the hotels and group them near the best places to visit in the cities. In addition, we can also compare the two Brazilian capitals by analyzing the cost of lodging and the tourist sites according to the city guide of Foursquare."
        },
        {
            "metadata": {},
            "cell_type": "markdown",
            "source": "## Data <a name=\"data\"></a>"
        },
        {
            "metadata": {},
            "cell_type": "markdown",
            "source": "As both capitals have several neighborhoods, I decided to pick up the major neighborhoods to compare hotel prices.\n\nFor Fortaleza city I selected the following neighborhoods: Praia de Iracema, Meireles, Mucuripe, Praia do Futuro and Downtown.\n\nFor city of Jo\u00e3o Pessoa I selected: Mana\u00edra, Tamba\u00fa, Cabo Branco, Bessa and Downtown.\n\nI'll also use OpenStreetMap with Nominatim, google maps data to manually collect hotel values and the foursquare API for finding venues in both capitals."
        },
        {
            "metadata": {},
            "cell_type": "code",
            "source": "import numpy as np\nimport pandas as pd\nimport requests\nfrom bs4 import BeautifulSoup\nfrom pandas.io.json import json_normalize\n\ndf = pd.DataFrame(columns=['City', 'Neighborhood', 'Latitude', 'Longitude', 'Lowest Price', 'Highest Price'])",
            "execution_count": 1,
            "outputs": []
        },
        {
            "metadata": {},
            "cell_type": "code",
            "source": "from geopy.geocoders import Nominatim \ngeolocator = Nominatim(user_agent=\"foursquare_agent\")",
            "execution_count": 2,
            "outputs": []
        },
        {
            "metadata": {},
            "cell_type": "code",
            "source": "",
            "execution_count": null,
            "outputs": []
        }
    ],
    "metadata": {
        "kernelspec": {
            "name": "python3",
            "display_name": "Python 3.6",
            "language": "python"
        },
        "language_info": {
            "name": "python",
            "version": "3.6.9",
            "mimetype": "text/x-python",
            "codemirror_mode": {
                "name": "ipython",
                "version": 3
            },
            "pygments_lexer": "ipython3",
            "nbconvert_exporter": "python",
            "file_extension": ".py"
        }
    },
    "nbformat": 4,
    "nbformat_minor": 2
}